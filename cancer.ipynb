{
  "nbformat": 4,
  "nbformat_minor": 0,
  "metadata": {
    "colab": {
      "provenance": [],
      "mount_file_id": "1A3SuwXcZRNeAz5Z8NiJWg6TxpfpUjsw7",
      "authorship_tag": "ABX9TyNX4Kc8V2J5T8jiDII8RWTF",
      "include_colab_link": true
    },
    "kernelspec": {
      "name": "python3",
      "display_name": "Python 3"
    },
    "language_info": {
      "name": "python"
    }
  },
  "cells": [
    {
      "cell_type": "markdown",
      "metadata": {
        "id": "view-in-github",
        "colab_type": "text"
      },
      "source": [
        "<a href=\"https://colab.research.google.com/github/vyom-verma/responsive_gallery/blob/main/cancer.ipynb\" target=\"_parent\"><img src=\"https://colab.research.google.com/assets/colab-badge.svg\" alt=\"Open In Colab\"/></a>"
      ]
    },
    {
      "cell_type": "code",
      "execution_count": null,
      "metadata": {
        "id": "1ABl2pgYKzNO"
      },
      "outputs": [],
      "source": [
        "import pandas as pd\n",
        "import numpy as np\n",
        "import seaborn as sns\n",
        "df=pd.read_csv('/content/Cancer_Data.csv')"
      ]
    },
    {
      "cell_type": "code",
      "source": [
        "df.info()"
      ],
      "metadata": {
        "colab": {
          "base_uri": "https://localhost:8080/"
        },
        "id": "d2ri_1q2MFIS",
        "outputId": "70dfa873-7a80-430a-e617-be516c0893b3"
      },
      "execution_count": null,
      "outputs": [
        {
          "output_type": "stream",
          "name": "stdout",
          "text": [
            "<class 'pandas.core.frame.DataFrame'>\n",
            "RangeIndex: 569 entries, 0 to 568\n",
            "Data columns (total 33 columns):\n",
            " #   Column                   Non-Null Count  Dtype  \n",
            "---  ------                   --------------  -----  \n",
            " 0   id                       569 non-null    int64  \n",
            " 1   diagnosis                569 non-null    object \n",
            " 2   radius_mean              569 non-null    float64\n",
            " 3   texture_mean             569 non-null    float64\n",
            " 4   perimeter_mean           569 non-null    float64\n",
            " 5   area_mean                569 non-null    float64\n",
            " 6   smoothness_mean          569 non-null    float64\n",
            " 7   compactness_mean         569 non-null    float64\n",
            " 8   concavity_mean           569 non-null    float64\n",
            " 9   concave points_mean      569 non-null    float64\n",
            " 10  symmetry_mean            569 non-null    float64\n",
            " 11  fractal_dimension_mean   569 non-null    float64\n",
            " 12  radius_se                569 non-null    float64\n",
            " 13  texture_se               569 non-null    float64\n",
            " 14  perimeter_se             569 non-null    float64\n",
            " 15  area_se                  569 non-null    float64\n",
            " 16  smoothness_se            569 non-null    float64\n",
            " 17  compactness_se           569 non-null    float64\n",
            " 18  concavity_se             569 non-null    float64\n",
            " 19  concave points_se        569 non-null    float64\n",
            " 20  symmetry_se              569 non-null    float64\n",
            " 21  fractal_dimension_se     569 non-null    float64\n",
            " 22  radius_worst             569 non-null    float64\n",
            " 23  texture_worst            569 non-null    float64\n",
            " 24  perimeter_worst          569 non-null    float64\n",
            " 25  area_worst               569 non-null    float64\n",
            " 26  smoothness_worst         569 non-null    float64\n",
            " 27  compactness_worst        569 non-null    float64\n",
            " 28  concavity_worst          569 non-null    float64\n",
            " 29  concave points_worst     569 non-null    float64\n",
            " 30  symmetry_worst           569 non-null    float64\n",
            " 31  fractal_dimension_worst  569 non-null    float64\n",
            " 32  Unnamed: 32              0 non-null      float64\n",
            "dtypes: float64(31), int64(1), object(1)\n",
            "memory usage: 146.8+ KB\n"
          ]
        }
      ]
    },
    {
      "cell_type": "code",
      "source": [
        "df.sample(10)"
      ],
      "metadata": {
        "colab": {
          "base_uri": "https://localhost:8080/",
          "height": 473
        },
        "id": "-lwrjU6qMK56",
        "outputId": "3bf472cf-b234-4e36-928c-69a12ad5b1f1"
      },
      "execution_count": null,
      "outputs": [
        {
          "output_type": "execute_result",
          "data": {
            "text/plain": [
              "           id diagnosis  radius_mean  texture_mean  perimeter_mean  area_mean  \\\n",
              "7    84458202         M        13.71         20.83           90.20      577.9   \n",
              "440    909411         B        10.97         17.20           71.73      371.5   \n",
              "541    921386         B        14.47         24.99           95.81      656.4   \n",
              "552    924084         B        12.77         29.43           81.35      507.9   \n",
              "478    911685         B        11.49         14.59           73.99      404.9   \n",
              "456   9112366         B        11.63         29.29           74.87      415.1   \n",
              "327    895299         B        12.03         17.93           76.09      446.0   \n",
              "275   8911164         B        11.89         17.36           76.20      435.6   \n",
              "222   8812844         B        10.18         17.53           65.12      313.1   \n",
              "232  88203002         B        11.22         33.81           70.79      386.8   \n",
              "\n",
              "     smoothness_mean  compactness_mean  concavity_mean  concave points_mean  \\\n",
              "7            0.11890           0.16450        0.093660             0.059850   \n",
              "440          0.08915           0.11130        0.094570             0.036130   \n",
              "541          0.08837           0.12300        0.100900             0.038900   \n",
              "552          0.08276           0.04234        0.019970             0.014990   \n",
              "478          0.10460           0.08228        0.053080             0.019690   \n",
              "456          0.09357           0.08574        0.071600             0.020170   \n",
              "327          0.07683           0.03892        0.001546             0.005592   \n",
              "275          0.12250           0.07210        0.059290             0.074040   \n",
              "222          0.10610           0.08502        0.017680             0.019150   \n",
              "232          0.07780           0.03574        0.004967             0.006434   \n",
              "\n",
              "     ...  texture_worst  perimeter_worst  area_worst  smoothness_worst  \\\n",
              "7    ...          28.14           110.60       897.0           0.16540   \n",
              "440  ...          26.87            90.14       476.4           0.13910   \n",
              "541  ...          31.73           113.50       808.9           0.13400   \n",
              "552  ...          36.00            88.10       594.7           0.12340   \n",
              "478  ...          21.90            82.04       467.6           0.13520   \n",
              "456  ...          38.81            86.04       527.8           0.14060   \n",
              "327  ...          22.25            82.74       523.4           0.10130   \n",
              "275  ...          18.99            79.46       472.4           0.13590   \n",
              "222  ...          22.84            71.94       375.6           0.14060   \n",
              "232  ...          41.78            78.44       470.9           0.09994   \n",
              "\n",
              "     compactness_worst  concavity_worst  concave points_worst  symmetry_worst  \\\n",
              "7              0.36820         0.267800               0.15560          0.3196   \n",
              "440            0.40820         0.477900               0.15550          0.2540   \n",
              "541            0.42020         0.404000               0.12050          0.3187   \n",
              "552            0.10640         0.086530               0.06498          0.2407   \n",
              "478            0.20100         0.259600               0.07431          0.2941   \n",
              "456            0.20310         0.292300               0.06835          0.2884   \n",
              "327            0.07390         0.007732               0.02796          0.2171   \n",
              "275            0.08368         0.071530               0.08946          0.2220   \n",
              "222            0.14400         0.065720               0.05575          0.3055   \n",
              "232            0.06885         0.023180               0.03002          0.2911   \n",
              "\n",
              "     fractal_dimension_worst  Unnamed: 32  \n",
              "7                    0.11510          NaN  \n",
              "440                  0.09532          NaN  \n",
              "541                  0.10230          NaN  \n",
              "552                  0.06484          NaN  \n",
              "478                  0.09180          NaN  \n",
              "456                  0.07220          NaN  \n",
              "327                  0.07037          NaN  \n",
              "275                  0.06033          NaN  \n",
              "222                  0.08797          NaN  \n",
              "232                  0.07307          NaN  \n",
              "\n",
              "[10 rows x 33 columns]"
            ],
            "text/html": [
              "\n",
              "  <div id=\"df-615017a9-c3cb-4139-8988-82b23e5358d0\">\n",
              "    <div class=\"colab-df-container\">\n",
              "      <div>\n",
              "<style scoped>\n",
              "    .dataframe tbody tr th:only-of-type {\n",
              "        vertical-align: middle;\n",
              "    }\n",
              "\n",
              "    .dataframe tbody tr th {\n",
              "        vertical-align: top;\n",
              "    }\n",
              "\n",
              "    .dataframe thead th {\n",
              "        text-align: right;\n",
              "    }\n",
              "</style>\n",
              "<table border=\"1\" class=\"dataframe\">\n",
              "  <thead>\n",
              "    <tr style=\"text-align: right;\">\n",
              "      <th></th>\n",
              "      <th>id</th>\n",
              "      <th>diagnosis</th>\n",
              "      <th>radius_mean</th>\n",
              "      <th>texture_mean</th>\n",
              "      <th>perimeter_mean</th>\n",
              "      <th>area_mean</th>\n",
              "      <th>smoothness_mean</th>\n",
              "      <th>compactness_mean</th>\n",
              "      <th>concavity_mean</th>\n",
              "      <th>concave points_mean</th>\n",
              "      <th>...</th>\n",
              "      <th>texture_worst</th>\n",
              "      <th>perimeter_worst</th>\n",
              "      <th>area_worst</th>\n",
              "      <th>smoothness_worst</th>\n",
              "      <th>compactness_worst</th>\n",
              "      <th>concavity_worst</th>\n",
              "      <th>concave points_worst</th>\n",
              "      <th>symmetry_worst</th>\n",
              "      <th>fractal_dimension_worst</th>\n",
              "      <th>Unnamed: 32</th>\n",
              "    </tr>\n",
              "  </thead>\n",
              "  <tbody>\n",
              "    <tr>\n",
              "      <th>7</th>\n",
              "      <td>84458202</td>\n",
              "      <td>M</td>\n",
              "      <td>13.71</td>\n",
              "      <td>20.83</td>\n",
              "      <td>90.20</td>\n",
              "      <td>577.9</td>\n",
              "      <td>0.11890</td>\n",
              "      <td>0.16450</td>\n",
              "      <td>0.093660</td>\n",
              "      <td>0.059850</td>\n",
              "      <td>...</td>\n",
              "      <td>28.14</td>\n",
              "      <td>110.60</td>\n",
              "      <td>897.0</td>\n",
              "      <td>0.16540</td>\n",
              "      <td>0.36820</td>\n",
              "      <td>0.267800</td>\n",
              "      <td>0.15560</td>\n",
              "      <td>0.3196</td>\n",
              "      <td>0.11510</td>\n",
              "      <td>NaN</td>\n",
              "    </tr>\n",
              "    <tr>\n",
              "      <th>440</th>\n",
              "      <td>909411</td>\n",
              "      <td>B</td>\n",
              "      <td>10.97</td>\n",
              "      <td>17.20</td>\n",
              "      <td>71.73</td>\n",
              "      <td>371.5</td>\n",
              "      <td>0.08915</td>\n",
              "      <td>0.11130</td>\n",
              "      <td>0.094570</td>\n",
              "      <td>0.036130</td>\n",
              "      <td>...</td>\n",
              "      <td>26.87</td>\n",
              "      <td>90.14</td>\n",
              "      <td>476.4</td>\n",
              "      <td>0.13910</td>\n",
              "      <td>0.40820</td>\n",
              "      <td>0.477900</td>\n",
              "      <td>0.15550</td>\n",
              "      <td>0.2540</td>\n",
              "      <td>0.09532</td>\n",
              "      <td>NaN</td>\n",
              "    </tr>\n",
              "    <tr>\n",
              "      <th>541</th>\n",
              "      <td>921386</td>\n",
              "      <td>B</td>\n",
              "      <td>14.47</td>\n",
              "      <td>24.99</td>\n",
              "      <td>95.81</td>\n",
              "      <td>656.4</td>\n",
              "      <td>0.08837</td>\n",
              "      <td>0.12300</td>\n",
              "      <td>0.100900</td>\n",
              "      <td>0.038900</td>\n",
              "      <td>...</td>\n",
              "      <td>31.73</td>\n",
              "      <td>113.50</td>\n",
              "      <td>808.9</td>\n",
              "      <td>0.13400</td>\n",
              "      <td>0.42020</td>\n",
              "      <td>0.404000</td>\n",
              "      <td>0.12050</td>\n",
              "      <td>0.3187</td>\n",
              "      <td>0.10230</td>\n",
              "      <td>NaN</td>\n",
              "    </tr>\n",
              "    <tr>\n",
              "      <th>552</th>\n",
              "      <td>924084</td>\n",
              "      <td>B</td>\n",
              "      <td>12.77</td>\n",
              "      <td>29.43</td>\n",
              "      <td>81.35</td>\n",
              "      <td>507.9</td>\n",
              "      <td>0.08276</td>\n",
              "      <td>0.04234</td>\n",
              "      <td>0.019970</td>\n",
              "      <td>0.014990</td>\n",
              "      <td>...</td>\n",
              "      <td>36.00</td>\n",
              "      <td>88.10</td>\n",
              "      <td>594.7</td>\n",
              "      <td>0.12340</td>\n",
              "      <td>0.10640</td>\n",
              "      <td>0.086530</td>\n",
              "      <td>0.06498</td>\n",
              "      <td>0.2407</td>\n",
              "      <td>0.06484</td>\n",
              "      <td>NaN</td>\n",
              "    </tr>\n",
              "    <tr>\n",
              "      <th>478</th>\n",
              "      <td>911685</td>\n",
              "      <td>B</td>\n",
              "      <td>11.49</td>\n",
              "      <td>14.59</td>\n",
              "      <td>73.99</td>\n",
              "      <td>404.9</td>\n",
              "      <td>0.10460</td>\n",
              "      <td>0.08228</td>\n",
              "      <td>0.053080</td>\n",
              "      <td>0.019690</td>\n",
              "      <td>...</td>\n",
              "      <td>21.90</td>\n",
              "      <td>82.04</td>\n",
              "      <td>467.6</td>\n",
              "      <td>0.13520</td>\n",
              "      <td>0.20100</td>\n",
              "      <td>0.259600</td>\n",
              "      <td>0.07431</td>\n",
              "      <td>0.2941</td>\n",
              "      <td>0.09180</td>\n",
              "      <td>NaN</td>\n",
              "    </tr>\n",
              "    <tr>\n",
              "      <th>456</th>\n",
              "      <td>9112366</td>\n",
              "      <td>B</td>\n",
              "      <td>11.63</td>\n",
              "      <td>29.29</td>\n",
              "      <td>74.87</td>\n",
              "      <td>415.1</td>\n",
              "      <td>0.09357</td>\n",
              "      <td>0.08574</td>\n",
              "      <td>0.071600</td>\n",
              "      <td>0.020170</td>\n",
              "      <td>...</td>\n",
              "      <td>38.81</td>\n",
              "      <td>86.04</td>\n",
              "      <td>527.8</td>\n",
              "      <td>0.14060</td>\n",
              "      <td>0.20310</td>\n",
              "      <td>0.292300</td>\n",
              "      <td>0.06835</td>\n",
              "      <td>0.2884</td>\n",
              "      <td>0.07220</td>\n",
              "      <td>NaN</td>\n",
              "    </tr>\n",
              "    <tr>\n",
              "      <th>327</th>\n",
              "      <td>895299</td>\n",
              "      <td>B</td>\n",
              "      <td>12.03</td>\n",
              "      <td>17.93</td>\n",
              "      <td>76.09</td>\n",
              "      <td>446.0</td>\n",
              "      <td>0.07683</td>\n",
              "      <td>0.03892</td>\n",
              "      <td>0.001546</td>\n",
              "      <td>0.005592</td>\n",
              "      <td>...</td>\n",
              "      <td>22.25</td>\n",
              "      <td>82.74</td>\n",
              "      <td>523.4</td>\n",
              "      <td>0.10130</td>\n",
              "      <td>0.07390</td>\n",
              "      <td>0.007732</td>\n",
              "      <td>0.02796</td>\n",
              "      <td>0.2171</td>\n",
              "      <td>0.07037</td>\n",
              "      <td>NaN</td>\n",
              "    </tr>\n",
              "    <tr>\n",
              "      <th>275</th>\n",
              "      <td>8911164</td>\n",
              "      <td>B</td>\n",
              "      <td>11.89</td>\n",
              "      <td>17.36</td>\n",
              "      <td>76.20</td>\n",
              "      <td>435.6</td>\n",
              "      <td>0.12250</td>\n",
              "      <td>0.07210</td>\n",
              "      <td>0.059290</td>\n",
              "      <td>0.074040</td>\n",
              "      <td>...</td>\n",
              "      <td>18.99</td>\n",
              "      <td>79.46</td>\n",
              "      <td>472.4</td>\n",
              "      <td>0.13590</td>\n",
              "      <td>0.08368</td>\n",
              "      <td>0.071530</td>\n",
              "      <td>0.08946</td>\n",
              "      <td>0.2220</td>\n",
              "      <td>0.06033</td>\n",
              "      <td>NaN</td>\n",
              "    </tr>\n",
              "    <tr>\n",
              "      <th>222</th>\n",
              "      <td>8812844</td>\n",
              "      <td>B</td>\n",
              "      <td>10.18</td>\n",
              "      <td>17.53</td>\n",
              "      <td>65.12</td>\n",
              "      <td>313.1</td>\n",
              "      <td>0.10610</td>\n",
              "      <td>0.08502</td>\n",
              "      <td>0.017680</td>\n",
              "      <td>0.019150</td>\n",
              "      <td>...</td>\n",
              "      <td>22.84</td>\n",
              "      <td>71.94</td>\n",
              "      <td>375.6</td>\n",
              "      <td>0.14060</td>\n",
              "      <td>0.14400</td>\n",
              "      <td>0.065720</td>\n",
              "      <td>0.05575</td>\n",
              "      <td>0.3055</td>\n",
              "      <td>0.08797</td>\n",
              "      <td>NaN</td>\n",
              "    </tr>\n",
              "    <tr>\n",
              "      <th>232</th>\n",
              "      <td>88203002</td>\n",
              "      <td>B</td>\n",
              "      <td>11.22</td>\n",
              "      <td>33.81</td>\n",
              "      <td>70.79</td>\n",
              "      <td>386.8</td>\n",
              "      <td>0.07780</td>\n",
              "      <td>0.03574</td>\n",
              "      <td>0.004967</td>\n",
              "      <td>0.006434</td>\n",
              "      <td>...</td>\n",
              "      <td>41.78</td>\n",
              "      <td>78.44</td>\n",
              "      <td>470.9</td>\n",
              "      <td>0.09994</td>\n",
              "      <td>0.06885</td>\n",
              "      <td>0.023180</td>\n",
              "      <td>0.03002</td>\n",
              "      <td>0.2911</td>\n",
              "      <td>0.07307</td>\n",
              "      <td>NaN</td>\n",
              "    </tr>\n",
              "  </tbody>\n",
              "</table>\n",
              "<p>10 rows × 33 columns</p>\n",
              "</div>\n",
              "      <button class=\"colab-df-convert\" onclick=\"convertToInteractive('df-615017a9-c3cb-4139-8988-82b23e5358d0')\"\n",
              "              title=\"Convert this dataframe to an interactive table.\"\n",
              "              style=\"display:none;\">\n",
              "        \n",
              "  <svg xmlns=\"http://www.w3.org/2000/svg\" height=\"24px\"viewBox=\"0 0 24 24\"\n",
              "       width=\"24px\">\n",
              "    <path d=\"M0 0h24v24H0V0z\" fill=\"none\"/>\n",
              "    <path d=\"M18.56 5.44l.94 2.06.94-2.06 2.06-.94-2.06-.94-.94-2.06-.94 2.06-2.06.94zm-11 1L8.5 8.5l.94-2.06 2.06-.94-2.06-.94L8.5 2.5l-.94 2.06-2.06.94zm10 10l.94 2.06.94-2.06 2.06-.94-2.06-.94-.94-2.06-.94 2.06-2.06.94z\"/><path d=\"M17.41 7.96l-1.37-1.37c-.4-.4-.92-.59-1.43-.59-.52 0-1.04.2-1.43.59L10.3 9.45l-7.72 7.72c-.78.78-.78 2.05 0 2.83L4 21.41c.39.39.9.59 1.41.59.51 0 1.02-.2 1.41-.59l7.78-7.78 2.81-2.81c.8-.78.8-2.07 0-2.86zM5.41 20L4 18.59l7.72-7.72 1.47 1.35L5.41 20z\"/>\n",
              "  </svg>\n",
              "      </button>\n",
              "      \n",
              "  <style>\n",
              "    .colab-df-container {\n",
              "      display:flex;\n",
              "      flex-wrap:wrap;\n",
              "      gap: 12px;\n",
              "    }\n",
              "\n",
              "    .colab-df-convert {\n",
              "      background-color: #E8F0FE;\n",
              "      border: none;\n",
              "      border-radius: 50%;\n",
              "      cursor: pointer;\n",
              "      display: none;\n",
              "      fill: #1967D2;\n",
              "      height: 32px;\n",
              "      padding: 0 0 0 0;\n",
              "      width: 32px;\n",
              "    }\n",
              "\n",
              "    .colab-df-convert:hover {\n",
              "      background-color: #E2EBFA;\n",
              "      box-shadow: 0px 1px 2px rgba(60, 64, 67, 0.3), 0px 1px 3px 1px rgba(60, 64, 67, 0.15);\n",
              "      fill: #174EA6;\n",
              "    }\n",
              "\n",
              "    [theme=dark] .colab-df-convert {\n",
              "      background-color: #3B4455;\n",
              "      fill: #D2E3FC;\n",
              "    }\n",
              "\n",
              "    [theme=dark] .colab-df-convert:hover {\n",
              "      background-color: #434B5C;\n",
              "      box-shadow: 0px 1px 3px 1px rgba(0, 0, 0, 0.15);\n",
              "      filter: drop-shadow(0px 1px 2px rgba(0, 0, 0, 0.3));\n",
              "      fill: #FFFFFF;\n",
              "    }\n",
              "  </style>\n",
              "\n",
              "      <script>\n",
              "        const buttonEl =\n",
              "          document.querySelector('#df-615017a9-c3cb-4139-8988-82b23e5358d0 button.colab-df-convert');\n",
              "        buttonEl.style.display =\n",
              "          google.colab.kernel.accessAllowed ? 'block' : 'none';\n",
              "\n",
              "        async function convertToInteractive(key) {\n",
              "          const element = document.querySelector('#df-615017a9-c3cb-4139-8988-82b23e5358d0');\n",
              "          const dataTable =\n",
              "            await google.colab.kernel.invokeFunction('convertToInteractive',\n",
              "                                                     [key], {});\n",
              "          if (!dataTable) return;\n",
              "\n",
              "          const docLinkHtml = 'Like what you see? Visit the ' +\n",
              "            '<a target=\"_blank\" href=https://colab.research.google.com/notebooks/data_table.ipynb>data table notebook</a>'\n",
              "            + ' to learn more about interactive tables.';\n",
              "          element.innerHTML = '';\n",
              "          dataTable['output_type'] = 'display_data';\n",
              "          await google.colab.output.renderOutput(dataTable, element);\n",
              "          const docLink = document.createElement('div');\n",
              "          docLink.innerHTML = docLinkHtml;\n",
              "          element.appendChild(docLink);\n",
              "        }\n",
              "      </script>\n",
              "    </div>\n",
              "  </div>\n",
              "  "
            ]
          },
          "metadata": {},
          "execution_count": 6
        }
      ]
    },
    {
      "cell_type": "code",
      "source": [
        "X=df.drop(columns=['id','diagnosis','Unnamed: 32'])\n",
        "y=df['diagnosis']\n",
        "X.shape\n",
        "\n",
        "\n"
      ],
      "metadata": {
        "colab": {
          "base_uri": "https://localhost:8080/"
        },
        "id": "BPY7tgwXMgP6",
        "outputId": "2961646f-59f6-44bf-99e8-7ec09c2ecf2f"
      },
      "execution_count": null,
      "outputs": [
        {
          "output_type": "execute_result",
          "data": {
            "text/plain": [
              "(569, 30)"
            ]
          },
          "metadata": {},
          "execution_count": 14
        }
      ]
    },
    {
      "cell_type": "code",
      "source": [
        "from sklearn.preprocessing import LabelEncoder\n",
        "le=LabelEncoder()\n",
        "le.fit(y)\n"
      ],
      "metadata": {
        "colab": {
          "base_uri": "https://localhost:8080/",
          "height": 129
        },
        "id": "-O_n782_Oaqj",
        "outputId": "8c8fdab8-c212-47a8-e4bd-7fb78d8fefdc"
      },
      "execution_count": null,
      "outputs": [
        {
          "output_type": "stream",
          "name": "stderr",
          "text": [
            "/usr/local/lib/python3.10/dist-packages/sklearn/preprocessing/_label.py:99: DataConversionWarning: A column-vector y was passed when a 1d array was expected. Please change the shape of y to (n_samples, ), for example using ravel().\n",
            "  y = column_or_1d(y, warn=True)\n"
          ]
        },
        {
          "output_type": "execute_result",
          "data": {
            "text/plain": [
              "LabelEncoder()"
            ],
            "text/html": [
              "<style>#sk-container-id-2 {color: black;background-color: white;}#sk-container-id-2 pre{padding: 0;}#sk-container-id-2 div.sk-toggleable {background-color: white;}#sk-container-id-2 label.sk-toggleable__label {cursor: pointer;display: block;width: 100%;margin-bottom: 0;padding: 0.3em;box-sizing: border-box;text-align: center;}#sk-container-id-2 label.sk-toggleable__label-arrow:before {content: \"▸\";float: left;margin-right: 0.25em;color: #696969;}#sk-container-id-2 label.sk-toggleable__label-arrow:hover:before {color: black;}#sk-container-id-2 div.sk-estimator:hover label.sk-toggleable__label-arrow:before {color: black;}#sk-container-id-2 div.sk-toggleable__content {max-height: 0;max-width: 0;overflow: hidden;text-align: left;background-color: #f0f8ff;}#sk-container-id-2 div.sk-toggleable__content pre {margin: 0.2em;color: black;border-radius: 0.25em;background-color: #f0f8ff;}#sk-container-id-2 input.sk-toggleable__control:checked~div.sk-toggleable__content {max-height: 200px;max-width: 100%;overflow: auto;}#sk-container-id-2 input.sk-toggleable__control:checked~label.sk-toggleable__label-arrow:before {content: \"▾\";}#sk-container-id-2 div.sk-estimator input.sk-toggleable__control:checked~label.sk-toggleable__label {background-color: #d4ebff;}#sk-container-id-2 div.sk-label input.sk-toggleable__control:checked~label.sk-toggleable__label {background-color: #d4ebff;}#sk-container-id-2 input.sk-hidden--visually {border: 0;clip: rect(1px 1px 1px 1px);clip: rect(1px, 1px, 1px, 1px);height: 1px;margin: -1px;overflow: hidden;padding: 0;position: absolute;width: 1px;}#sk-container-id-2 div.sk-estimator {font-family: monospace;background-color: #f0f8ff;border: 1px dotted black;border-radius: 0.25em;box-sizing: border-box;margin-bottom: 0.5em;}#sk-container-id-2 div.sk-estimator:hover {background-color: #d4ebff;}#sk-container-id-2 div.sk-parallel-item::after {content: \"\";width: 100%;border-bottom: 1px solid gray;flex-grow: 1;}#sk-container-id-2 div.sk-label:hover label.sk-toggleable__label {background-color: #d4ebff;}#sk-container-id-2 div.sk-serial::before {content: \"\";position: absolute;border-left: 1px solid gray;box-sizing: border-box;top: 0;bottom: 0;left: 50%;z-index: 0;}#sk-container-id-2 div.sk-serial {display: flex;flex-direction: column;align-items: center;background-color: white;padding-right: 0.2em;padding-left: 0.2em;position: relative;}#sk-container-id-2 div.sk-item {position: relative;z-index: 1;}#sk-container-id-2 div.sk-parallel {display: flex;align-items: stretch;justify-content: center;background-color: white;position: relative;}#sk-container-id-2 div.sk-item::before, #sk-container-id-2 div.sk-parallel-item::before {content: \"\";position: absolute;border-left: 1px solid gray;box-sizing: border-box;top: 0;bottom: 0;left: 50%;z-index: -1;}#sk-container-id-2 div.sk-parallel-item {display: flex;flex-direction: column;z-index: 1;position: relative;background-color: white;}#sk-container-id-2 div.sk-parallel-item:first-child::after {align-self: flex-end;width: 50%;}#sk-container-id-2 div.sk-parallel-item:last-child::after {align-self: flex-start;width: 50%;}#sk-container-id-2 div.sk-parallel-item:only-child::after {width: 0;}#sk-container-id-2 div.sk-dashed-wrapped {border: 1px dashed gray;margin: 0 0.4em 0.5em 0.4em;box-sizing: border-box;padding-bottom: 0.4em;background-color: white;}#sk-container-id-2 div.sk-label label {font-family: monospace;font-weight: bold;display: inline-block;line-height: 1.2em;}#sk-container-id-2 div.sk-label-container {text-align: center;}#sk-container-id-2 div.sk-container {/* jupyter's `normalize.less` sets `[hidden] { display: none; }` but bootstrap.min.css set `[hidden] { display: none !important; }` so we also need the `!important` here to be able to override the default hidden behavior on the sphinx rendered scikit-learn.org. See: https://github.com/scikit-learn/scikit-learn/issues/21755 */display: inline-block !important;position: relative;}#sk-container-id-2 div.sk-text-repr-fallback {display: none;}</style><div id=\"sk-container-id-2\" class=\"sk-top-container\"><div class=\"sk-text-repr-fallback\"><pre>LabelEncoder()</pre><b>In a Jupyter environment, please rerun this cell to show the HTML representation or trust the notebook. <br />On GitHub, the HTML representation is unable to render, please try loading this page with nbviewer.org.</b></div><div class=\"sk-container\" hidden><div class=\"sk-item\"><div class=\"sk-estimator sk-toggleable\"><input class=\"sk-toggleable__control sk-hidden--visually\" id=\"sk-estimator-id-2\" type=\"checkbox\" checked><label for=\"sk-estimator-id-2\" class=\"sk-toggleable__label sk-toggleable__label-arrow\">LabelEncoder</label><div class=\"sk-toggleable__content\"><pre>LabelEncoder()</pre></div></div></div></div></div>"
            ]
          },
          "metadata": {},
          "execution_count": 33
        }
      ]
    },
    {
      "cell_type": "code",
      "source": [
        "y=le.transform(y)"
      ],
      "metadata": {
        "colab": {
          "base_uri": "https://localhost:8080/"
        },
        "id": "sipvGWH2SZmh",
        "outputId": "777cdd15-164f-44b3-9d42-ddfefa210404"
      },
      "execution_count": null,
      "outputs": [
        {
          "output_type": "stream",
          "name": "stderr",
          "text": [
            "/usr/local/lib/python3.10/dist-packages/sklearn/preprocessing/_label.py:134: DataConversionWarning: A column-vector y was passed when a 1d array was expected. Please change the shape of y to (n_samples, ), for example using ravel().\n",
            "  y = column_or_1d(y, dtype=self.classes_.dtype, warn=True)\n"
          ]
        }
      ]
    },
    {
      "cell_type": "code",
      "source": [
        "y=pd.DataFrame(y)\n",
        "y.sample(10)"
      ],
      "metadata": {
        "colab": {
          "base_uri": "https://localhost:8080/",
          "height": 363
        },
        "id": "ZF8yX7LgSgKF",
        "outputId": "d0034fe5-fdf6-4c3f-b19c-26185122f3c9"
      },
      "execution_count": null,
      "outputs": [
        {
          "output_type": "execute_result",
          "data": {
            "text/plain": [
              "     0\n",
              "522  1\n",
              "172  0\n",
              "136  1\n",
              "97   1\n",
              "98   1\n",
              "99   0\n",
              "561  1\n",
              "344  1\n",
              "187  1\n",
              "378  1"
            ],
            "text/html": [
              "\n",
              "  <div id=\"df-1a93d312-aeba-43ce-ad00-f8f490f20d04\">\n",
              "    <div class=\"colab-df-container\">\n",
              "      <div>\n",
              "<style scoped>\n",
              "    .dataframe tbody tr th:only-of-type {\n",
              "        vertical-align: middle;\n",
              "    }\n",
              "\n",
              "    .dataframe tbody tr th {\n",
              "        vertical-align: top;\n",
              "    }\n",
              "\n",
              "    .dataframe thead th {\n",
              "        text-align: right;\n",
              "    }\n",
              "</style>\n",
              "<table border=\"1\" class=\"dataframe\">\n",
              "  <thead>\n",
              "    <tr style=\"text-align: right;\">\n",
              "      <th></th>\n",
              "      <th>0</th>\n",
              "    </tr>\n",
              "  </thead>\n",
              "  <tbody>\n",
              "    <tr>\n",
              "      <th>522</th>\n",
              "      <td>1</td>\n",
              "    </tr>\n",
              "    <tr>\n",
              "      <th>172</th>\n",
              "      <td>0</td>\n",
              "    </tr>\n",
              "    <tr>\n",
              "      <th>136</th>\n",
              "      <td>1</td>\n",
              "    </tr>\n",
              "    <tr>\n",
              "      <th>97</th>\n",
              "      <td>1</td>\n",
              "    </tr>\n",
              "    <tr>\n",
              "      <th>98</th>\n",
              "      <td>1</td>\n",
              "    </tr>\n",
              "    <tr>\n",
              "      <th>99</th>\n",
              "      <td>0</td>\n",
              "    </tr>\n",
              "    <tr>\n",
              "      <th>561</th>\n",
              "      <td>1</td>\n",
              "    </tr>\n",
              "    <tr>\n",
              "      <th>344</th>\n",
              "      <td>1</td>\n",
              "    </tr>\n",
              "    <tr>\n",
              "      <th>187</th>\n",
              "      <td>1</td>\n",
              "    </tr>\n",
              "    <tr>\n",
              "      <th>378</th>\n",
              "      <td>1</td>\n",
              "    </tr>\n",
              "  </tbody>\n",
              "</table>\n",
              "</div>\n",
              "      <button class=\"colab-df-convert\" onclick=\"convertToInteractive('df-1a93d312-aeba-43ce-ad00-f8f490f20d04')\"\n",
              "              title=\"Convert this dataframe to an interactive table.\"\n",
              "              style=\"display:none;\">\n",
              "        \n",
              "  <svg xmlns=\"http://www.w3.org/2000/svg\" height=\"24px\"viewBox=\"0 0 24 24\"\n",
              "       width=\"24px\">\n",
              "    <path d=\"M0 0h24v24H0V0z\" fill=\"none\"/>\n",
              "    <path d=\"M18.56 5.44l.94 2.06.94-2.06 2.06-.94-2.06-.94-.94-2.06-.94 2.06-2.06.94zm-11 1L8.5 8.5l.94-2.06 2.06-.94-2.06-.94L8.5 2.5l-.94 2.06-2.06.94zm10 10l.94 2.06.94-2.06 2.06-.94-2.06-.94-.94-2.06-.94 2.06-2.06.94z\"/><path d=\"M17.41 7.96l-1.37-1.37c-.4-.4-.92-.59-1.43-.59-.52 0-1.04.2-1.43.59L10.3 9.45l-7.72 7.72c-.78.78-.78 2.05 0 2.83L4 21.41c.39.39.9.59 1.41.59.51 0 1.02-.2 1.41-.59l7.78-7.78 2.81-2.81c.8-.78.8-2.07 0-2.86zM5.41 20L4 18.59l7.72-7.72 1.47 1.35L5.41 20z\"/>\n",
              "  </svg>\n",
              "      </button>\n",
              "      \n",
              "  <style>\n",
              "    .colab-df-container {\n",
              "      display:flex;\n",
              "      flex-wrap:wrap;\n",
              "      gap: 12px;\n",
              "    }\n",
              "\n",
              "    .colab-df-convert {\n",
              "      background-color: #E8F0FE;\n",
              "      border: none;\n",
              "      border-radius: 50%;\n",
              "      cursor: pointer;\n",
              "      display: none;\n",
              "      fill: #1967D2;\n",
              "      height: 32px;\n",
              "      padding: 0 0 0 0;\n",
              "      width: 32px;\n",
              "    }\n",
              "\n",
              "    .colab-df-convert:hover {\n",
              "      background-color: #E2EBFA;\n",
              "      box-shadow: 0px 1px 2px rgba(60, 64, 67, 0.3), 0px 1px 3px 1px rgba(60, 64, 67, 0.15);\n",
              "      fill: #174EA6;\n",
              "    }\n",
              "\n",
              "    [theme=dark] .colab-df-convert {\n",
              "      background-color: #3B4455;\n",
              "      fill: #D2E3FC;\n",
              "    }\n",
              "\n",
              "    [theme=dark] .colab-df-convert:hover {\n",
              "      background-color: #434B5C;\n",
              "      box-shadow: 0px 1px 3px 1px rgba(0, 0, 0, 0.15);\n",
              "      filter: drop-shadow(0px 1px 2px rgba(0, 0, 0, 0.3));\n",
              "      fill: #FFFFFF;\n",
              "    }\n",
              "  </style>\n",
              "\n",
              "      <script>\n",
              "        const buttonEl =\n",
              "          document.querySelector('#df-1a93d312-aeba-43ce-ad00-f8f490f20d04 button.colab-df-convert');\n",
              "        buttonEl.style.display =\n",
              "          google.colab.kernel.accessAllowed ? 'block' : 'none';\n",
              "\n",
              "        async function convertToInteractive(key) {\n",
              "          const element = document.querySelector('#df-1a93d312-aeba-43ce-ad00-f8f490f20d04');\n",
              "          const dataTable =\n",
              "            await google.colab.kernel.invokeFunction('convertToInteractive',\n",
              "                                                     [key], {});\n",
              "          if (!dataTable) return;\n",
              "\n",
              "          const docLinkHtml = 'Like what you see? Visit the ' +\n",
              "            '<a target=\"_blank\" href=https://colab.research.google.com/notebooks/data_table.ipynb>data table notebook</a>'\n",
              "            + ' to learn more about interactive tables.';\n",
              "          element.innerHTML = '';\n",
              "          dataTable['output_type'] = 'display_data';\n",
              "          await google.colab.output.renderOutput(dataTable, element);\n",
              "          const docLink = document.createElement('div');\n",
              "          docLink.innerHTML = docLinkHtml;\n",
              "          element.appendChild(docLink);\n",
              "        }\n",
              "      </script>\n",
              "    </div>\n",
              "  </div>\n",
              "  "
            ]
          },
          "metadata": {},
          "execution_count": 40
        }
      ]
    },
    {
      "cell_type": "code",
      "source": [
        "from sklearn.model_selection import train_test_split\n",
        "X_train,X_test,y_train,y_test=train_test_split(X,y,test_size=0.2,random_state=1)"
      ],
      "metadata": {
        "id": "j79J0g5nSsPI"
      },
      "execution_count": null,
      "outputs": []
    },
    {
      "cell_type": "code",
      "source": [
        "X_train.shape"
      ],
      "metadata": {
        "colab": {
          "base_uri": "https://localhost:8080/"
        },
        "id": "3HmISgvpS1Zu",
        "outputId": "bdb55575-5a9a-407f-dde5-f1e93ec0b13e"
      },
      "execution_count": null,
      "outputs": [
        {
          "output_type": "execute_result",
          "data": {
            "text/plain": [
              "(455, 30)"
            ]
          },
          "metadata": {},
          "execution_count": 42
        }
      ]
    },
    {
      "cell_type": "code",
      "source": [
        "X_test.shape"
      ],
      "metadata": {
        "colab": {
          "base_uri": "https://localhost:8080/"
        },
        "id": "EZ1_xKxJS5Af",
        "outputId": "b31e8890-3588-4e2a-9789-886c43fead5e"
      },
      "execution_count": null,
      "outputs": [
        {
          "output_type": "execute_result",
          "data": {
            "text/plain": [
              "(114, 30)"
            ]
          },
          "metadata": {},
          "execution_count": 43
        }
      ]
    },
    {
      "cell_type": "code",
      "source": [
        "y_test.shape"
      ],
      "metadata": {
        "colab": {
          "base_uri": "https://localhost:8080/"
        },
        "id": "Y7V3NrT-S8hm",
        "outputId": "7bc16d0d-44eb-468a-9b24-62dc707bbded"
      },
      "execution_count": null,
      "outputs": [
        {
          "output_type": "execute_result",
          "data": {
            "text/plain": [
              "(114, 1)"
            ]
          },
          "metadata": {},
          "execution_count": 44
        }
      ]
    },
    {
      "cell_type": "code",
      "source": [
        "from sklearn.preprocessing import StandardScaler\n",
        "scaler=StandardScaler()\n",
        "X_train_scaled=scaler.fit_transform(X_train)\n",
        "X_test_scaled=scaler.transform(X_test)"
      ],
      "metadata": {
        "id": "ymGiEdC3TA0s"
      },
      "execution_count": null,
      "outputs": []
    },
    {
      "cell_type": "code",
      "source": [
        "X_train_scaled"
      ],
      "metadata": {
        "colab": {
          "base_uri": "https://localhost:8080/"
        },
        "id": "h3g-_7g-TPia",
        "outputId": "e7c6f585-795b-48cb-ac0b-f867a19537eb"
      },
      "execution_count": null,
      "outputs": [
        {
          "output_type": "execute_result",
          "data": {
            "text/plain": [
              "array([[ 1.0449852 ,  0.29708512,  1.01044815, ...,  1.21839781,\n",
              "         0.29811854,  0.08380738],\n",
              "       [ 1.68141074, -1.14098169,  1.70338066, ...,  0.69716372,\n",
              "        -0.88595033, -0.41234747],\n",
              "       [-1.44260855, -1.12732916, -1.4504636 , ..., -1.52233766,\n",
              "         0.1807324 , -0.33657109],\n",
              "       ...,\n",
              "       [ 0.82638686,  1.17539807,  0.86625411, ...,  1.10638475,\n",
              "         0.72853438,  3.02284824],\n",
              "       [-0.05077356,  0.43133503, -0.11146165, ..., -0.54050588,\n",
              "        -1.1207226 , -0.44903285],\n",
              "       [-0.32748032, -0.21260945, -0.39904866, ..., -0.98109057,\n",
              "        -1.52732096, -1.31985978]])"
            ]
          },
          "metadata": {},
          "execution_count": 46
        }
      ]
    },
    {
      "cell_type": "code",
      "source": [
        "import tensorflow as tf\n",
        "\n",
        "from tensorflow import keras\n",
        "from tensorflow.keras import Sequential\n",
        "from tensorflow.keras.layers import Dense"
      ],
      "metadata": {
        "id": "VmvT4dLcTUr6"
      },
      "execution_count": null,
      "outputs": []
    },
    {
      "cell_type": "code",
      "source": [
        "model=Sequential()\n",
        "model.add(Dense(30,activation='relu',input_dim=30))\n",
        "model.add(Dense(10,activation='relu'))\n",
        "model.add(Dense(1,activation='sigmoid'))\n",
        "model.compile(optimizer='Adam', loss='binary_crossentropy',metrics=['accuracy'])"
      ],
      "metadata": {
        "id": "AaiyXZyvTcto"
      },
      "execution_count": null,
      "outputs": []
    },
    {
      "cell_type": "code",
      "source": [
        "model.summary()"
      ],
      "metadata": {
        "colab": {
          "base_uri": "https://localhost:8080/"
        },
        "id": "SZUuLIR6URsZ",
        "outputId": "f744ca5a-af24-4b5e-86d4-ccb4c22ca8f6"
      },
      "execution_count": null,
      "outputs": [
        {
          "output_type": "stream",
          "name": "stdout",
          "text": [
            "Model: \"sequential_3\"\n",
            "_________________________________________________________________\n",
            " Layer (type)                Output Shape              Param #   \n",
            "=================================================================\n",
            " dense_9 (Dense)             (None, 30)                930       \n",
            "                                                                 \n",
            " dense_10 (Dense)            (None, 10)                310       \n",
            "                                                                 \n",
            " dense_11 (Dense)            (None, 1)                 11        \n",
            "                                                                 \n",
            "=================================================================\n",
            "Total params: 1,251\n",
            "Trainable params: 1,251\n",
            "Non-trainable params: 0\n",
            "_________________________________________________________________\n"
          ]
        }
      ]
    },
    {
      "cell_type": "code",
      "source": [
        "history=model.fit(X_train_scaled,y_train,epochs=50)"
      ],
      "metadata": {
        "colab": {
          "base_uri": "https://localhost:8080/"
        },
        "id": "0Z-LEiatUXp1",
        "outputId": "ef87dda3-a102-4955-9b8a-250d6f44b95e"
      },
      "execution_count": null,
      "outputs": [
        {
          "output_type": "stream",
          "name": "stdout",
          "text": [
            "Epoch 1/50\n",
            "15/15 [==============================] - 0s 5ms/step - loss: 0.1065 - accuracy: 0.9714\n",
            "Epoch 2/50\n",
            "15/15 [==============================] - 0s 3ms/step - loss: 0.0987 - accuracy: 0.9736\n",
            "Epoch 3/50\n",
            "15/15 [==============================] - 0s 3ms/step - loss: 0.0912 - accuracy: 0.9780\n",
            "Epoch 4/50\n",
            "15/15 [==============================] - 0s 3ms/step - loss: 0.0848 - accuracy: 0.9802\n",
            "Epoch 5/50\n",
            "15/15 [==============================] - 0s 3ms/step - loss: 0.0797 - accuracy: 0.9802\n",
            "Epoch 6/50\n",
            "15/15 [==============================] - 0s 2ms/step - loss: 0.0750 - accuracy: 0.9824\n",
            "Epoch 7/50\n",
            "15/15 [==============================] - 0s 2ms/step - loss: 0.0720 - accuracy: 0.9846\n",
            "Epoch 8/50\n",
            "15/15 [==============================] - 0s 2ms/step - loss: 0.0675 - accuracy: 0.9868\n",
            "Epoch 9/50\n",
            "15/15 [==============================] - 0s 3ms/step - loss: 0.0639 - accuracy: 0.9846\n",
            "Epoch 10/50\n",
            "15/15 [==============================] - 0s 2ms/step - loss: 0.0608 - accuracy: 0.9868\n",
            "Epoch 11/50\n",
            "15/15 [==============================] - 0s 2ms/step - loss: 0.0582 - accuracy: 0.9890\n",
            "Epoch 12/50\n",
            "15/15 [==============================] - 0s 2ms/step - loss: 0.0558 - accuracy: 0.9890\n",
            "Epoch 13/50\n",
            "15/15 [==============================] - 0s 2ms/step - loss: 0.0534 - accuracy: 0.9890\n",
            "Epoch 14/50\n",
            "15/15 [==============================] - 0s 2ms/step - loss: 0.0517 - accuracy: 0.9890\n",
            "Epoch 15/50\n",
            "15/15 [==============================] - 0s 2ms/step - loss: 0.0497 - accuracy: 0.9890\n",
            "Epoch 16/50\n",
            "15/15 [==============================] - 0s 2ms/step - loss: 0.0480 - accuracy: 0.9890\n",
            "Epoch 17/50\n",
            "15/15 [==============================] - 0s 2ms/step - loss: 0.0464 - accuracy: 0.9912\n",
            "Epoch 18/50\n",
            "15/15 [==============================] - 0s 2ms/step - loss: 0.0447 - accuracy: 0.9912\n",
            "Epoch 19/50\n",
            "15/15 [==============================] - 0s 2ms/step - loss: 0.0431 - accuracy: 0.9912\n",
            "Epoch 20/50\n",
            "15/15 [==============================] - 0s 2ms/step - loss: 0.0417 - accuracy: 0.9912\n",
            "Epoch 21/50\n",
            "15/15 [==============================] - 0s 2ms/step - loss: 0.0407 - accuracy: 0.9912\n",
            "Epoch 22/50\n",
            "15/15 [==============================] - 0s 2ms/step - loss: 0.0393 - accuracy: 0.9912\n",
            "Epoch 23/50\n",
            "15/15 [==============================] - 0s 2ms/step - loss: 0.0382 - accuracy: 0.9912\n",
            "Epoch 24/50\n",
            "15/15 [==============================] - 0s 2ms/step - loss: 0.0373 - accuracy: 0.9934\n",
            "Epoch 25/50\n",
            "15/15 [==============================] - 0s 2ms/step - loss: 0.0359 - accuracy: 0.9956\n",
            "Epoch 26/50\n",
            "15/15 [==============================] - 0s 3ms/step - loss: 0.0346 - accuracy: 0.9956\n",
            "Epoch 27/50\n",
            "15/15 [==============================] - 0s 2ms/step - loss: 0.0338 - accuracy: 0.9956\n",
            "Epoch 28/50\n",
            "15/15 [==============================] - 0s 2ms/step - loss: 0.0323 - accuracy: 0.9956\n",
            "Epoch 29/50\n",
            "15/15 [==============================] - 0s 2ms/step - loss: 0.0315 - accuracy: 0.9956\n",
            "Epoch 30/50\n",
            "15/15 [==============================] - 0s 2ms/step - loss: 0.0302 - accuracy: 0.9956\n",
            "Epoch 31/50\n",
            "15/15 [==============================] - 0s 2ms/step - loss: 0.0296 - accuracy: 0.9956\n",
            "Epoch 32/50\n",
            "15/15 [==============================] - 0s 2ms/step - loss: 0.0299 - accuracy: 0.9956\n",
            "Epoch 33/50\n",
            "15/15 [==============================] - 0s 2ms/step - loss: 0.0276 - accuracy: 0.9956\n",
            "Epoch 34/50\n",
            "15/15 [==============================] - 0s 2ms/step - loss: 0.0265 - accuracy: 0.9956\n",
            "Epoch 35/50\n",
            "15/15 [==============================] - 0s 2ms/step - loss: 0.0257 - accuracy: 0.9956\n",
            "Epoch 36/50\n",
            "15/15 [==============================] - 0s 2ms/step - loss: 0.0249 - accuracy: 0.9956\n",
            "Epoch 37/50\n",
            "15/15 [==============================] - 0s 3ms/step - loss: 0.0242 - accuracy: 0.9956\n",
            "Epoch 38/50\n",
            "15/15 [==============================] - 0s 2ms/step - loss: 0.0231 - accuracy: 0.9956\n",
            "Epoch 39/50\n",
            "15/15 [==============================] - 0s 2ms/step - loss: 0.0223 - accuracy: 0.9956\n",
            "Epoch 40/50\n",
            "15/15 [==============================] - 0s 2ms/step - loss: 0.0216 - accuracy: 0.9956\n",
            "Epoch 41/50\n",
            "15/15 [==============================] - 0s 2ms/step - loss: 0.0210 - accuracy: 0.9956\n",
            "Epoch 42/50\n",
            "15/15 [==============================] - 0s 2ms/step - loss: 0.0203 - accuracy: 0.9956\n",
            "Epoch 43/50\n",
            "15/15 [==============================] - 0s 2ms/step - loss: 0.0198 - accuracy: 0.9956\n",
            "Epoch 44/50\n",
            "15/15 [==============================] - 0s 2ms/step - loss: 0.0192 - accuracy: 0.9956\n",
            "Epoch 45/50\n",
            "15/15 [==============================] - 0s 3ms/step - loss: 0.0184 - accuracy: 0.9978\n",
            "Epoch 46/50\n",
            "15/15 [==============================] - 0s 2ms/step - loss: 0.0177 - accuracy: 0.9978\n",
            "Epoch 47/50\n",
            "15/15 [==============================] - 0s 2ms/step - loss: 0.0173 - accuracy: 0.9978\n",
            "Epoch 48/50\n",
            "15/15 [==============================] - 0s 2ms/step - loss: 0.0168 - accuracy: 0.9978\n",
            "Epoch 49/50\n",
            "15/15 [==============================] - 0s 2ms/step - loss: 0.0163 - accuracy: 0.9978\n",
            "Epoch 50/50\n",
            "15/15 [==============================] - 0s 2ms/step - loss: 0.0158 - accuracy: 0.9978\n"
          ]
        }
      ]
    },
    {
      "cell_type": "code",
      "source": [
        "y_log=model.predict(X_test_scaled)\n"
      ],
      "metadata": {
        "colab": {
          "base_uri": "https://localhost:8080/"
        },
        "id": "aK41_tKaUogM",
        "outputId": "5a13b9e8-af6b-4667-ac10-6ac951a30fa6"
      },
      "execution_count": null,
      "outputs": [
        {
          "output_type": "stream",
          "name": "stdout",
          "text": [
            "4/4 [==============================] - 0s 3ms/step\n"
          ]
        }
      ]
    },
    {
      "cell_type": "code",
      "source": [
        "import matplotlib.pyplot as plt\n",
        "plt.hist(y_log)"
      ],
      "metadata": {
        "colab": {
          "base_uri": "https://localhost:8080/",
          "height": 517
        },
        "id": "GDs_3RtcVUKw",
        "outputId": "5e1338d8-1a73-404d-f08a-6716b277df1b"
      },
      "execution_count": null,
      "outputs": [
        {
          "output_type": "execute_result",
          "data": {
            "text/plain": [
              "(array([38.,  0.,  2.,  0.,  0.,  0.,  0.,  1.,  1., 72.]),\n",
              " array([5.67030986e-17, 9.99999940e-02, 1.99999988e-01, 2.99999982e-01,\n",
              "        3.99999976e-01, 4.99999970e-01, 5.99999964e-01, 6.99999928e-01,\n",
              "        7.99999952e-01, 8.99999976e-01, 9.99999940e-01]),\n",
              " <BarContainer object of 10 artists>)"
            ]
          },
          "metadata": {},
          "execution_count": 65
        },
        {
          "output_type": "display_data",
          "data": {
            "text/plain": [
              "<Figure size 640x480 with 1 Axes>"
            ],
            "image/png": "[encoded data removed]"
          },
          "metadata": {}
        }
      ]
    },
    {
      "cell_type": "code",
      "source": [
        "y_pred=np.where(y_log>0.5,1,0)\n"
      ],
      "metadata": {
        "id": "d4unQzN-Vk1I"
      },
      "execution_count": null,
      "outputs": []
    },
    {
      "cell_type": "code",
      "source": [
        "y_test=np.array(y_test)\n"
      ],
      "metadata": {
        "id": "wuLHSbyYVsIU"
      },
      "execution_count": null,
      "outputs": []
    },
    {
      "cell_type": "code",
      "source": [
        "from sklearn.metrics import accuracy_score\n",
        "accuracy_score(y_test,y_pred)"
      ],
      "metadata": {
        "colab": {
          "base_uri": "https://localhost:8080/"
        },
        "id": "8afUj9MNV03L",
        "outputId": "bd78f8c8-c771-4f9f-b5aa-72545644443b"
      },
      "execution_count": null,
      "outputs": [
        {
          "output_type": "execute_result",
          "data": {
            "text/plain": [
              "0.9824561403508771"
            ]
          },
          "metadata": {},
          "execution_count": 75
        }
      ]
    }
  ]
}